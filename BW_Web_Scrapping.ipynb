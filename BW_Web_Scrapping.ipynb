{
 "cells": [
  {
   "cell_type": "code",
   "execution_count": 2,
   "id": "d0c7fedb-7ad2-41e4-ab02-6f9fd94dffd6",
   "metadata": {},
   "outputs": [],
   "source": [
    "import requests\n",
    "from bs4 import BeautifulSoup\n",
    "import csv\n",
    "import time"
   ]
  },
  {
   "cell_type": "markdown",
   "id": "13c47e72-ff5b-465f-befe-3e55c5a2e348",
   "metadata": {},
   "source": [
    "\n",
    "##### Define the base URL of the website"
   ]
  },
  {
   "cell_type": "code",
   "execution_count": 3,
   "id": "a7d20f74-9f7d-4128-b8f7-1a20f12f4875",
   "metadata": {},
   "outputs": [],
   "source": [
    "\n",
    "base_url = 'http://quotes.toscrape.com'\n",
    "current_url = base_url"
   ]
  },
  {
   "cell_type": "markdown",
   "id": "b7ab38ea-62f4-4242-9e0f-27e9eb4bc5fe",
   "metadata": {},
   "source": [
    "\n",
    "##### Open a CSV file to store the scraped data"
   ]
  },
  {
   "cell_type": "code",
   "execution_count": 7,
   "id": "4b8aef65-5fcf-45dd-8a84-3cf0ebf8e7fc",
   "metadata": {},
   "outputs": [
    {
     "name": "stdout",
     "output_type": "stream",
     "text": [
      "Scraping http://quotes.toscrape.com\n",
      "Scraping http://quotes.toscrape.com/page/2/\n",
      "Scraping http://quotes.toscrape.com/page/3/\n",
      "Scraping http://quotes.toscrape.com/page/4/\n",
      "Scraping http://quotes.toscrape.com/page/5/\n",
      "Scraping http://quotes.toscrape.com/page/6/\n",
      "Scraping http://quotes.toscrape.com/page/7/\n",
      "Scraping http://quotes.toscrape.com/page/8/\n",
      "Scraping http://quotes.toscrape.com/page/9/\n",
      "Scraping http://quotes.toscrape.com/page/10/\n",
      "Scraping complete. Data saved to quotes.csv.\n"
     ]
    }
   ],
   "source": [
    "# Initialize an empty list to collect the quotes\n",
    "quotes_list = []\n",
    "\n",
    "with open('quotes.csv', 'w', newline='', encoding='utf-8') as file:\n",
    "    writer = csv.writer(file)\n",
    "    writer.writerow(['author', 'quote', 'tag_name'])  # CSV header\n",
    "    \n",
    "    while current_url:\n",
    "        print(f\"Scraping {current_url}\")\n",
    "        try:\n",
    "            response = requests.get(current_url)\n",
    "            response.raise_for_status()  # Check for HTTP errors\n",
    "        except requests.exceptions.RequestException as e:\n",
    "            print(f\"Error retrieving {current_url}: {e}\")\n",
    "            break\n",
    "        \n",
    "        soup = BeautifulSoup(response.text, 'html.parser')\n",
    "        quotes = soup.find_all('div', class_='quote')\n",
    "        \n",
    "        for quote in quotes:\n",
    "            # Extract quote text (removes leading/ending quotes)\n",
    "            text = quote.find('span', class_='text').get_text(strip=True) if quote.find('span', class_='text') else ''\n",
    "            \n",
    "            # Extract author name\n",
    "            author = quote.find('small', class_='author').get_text(strip=True) if quote.find('small', class_='author') else ''\n",
    "            \n",
    "            # Extract tags (list of strings)\n",
    "            tags = [tag.get_text(strip=True) for tag in quote.find_all('a', class_='tag')]\n",
    "            \n",
    "            # Write each tag as a separate row in CSV\n",
    "            if tags:\n",
    "                for tag in tags:\n",
    "                    writer.writerow([author, text, tag])\n",
    "                    # Add to the quotes_list for the second CSV writing\n",
    "                    quotes_list.append({'Author': author, 'Quote': text, 'Tags': tag})\n",
    "            else:\n",
    "                # Write empty tag if none exist\n",
    "                writer.writerow([author, text, ''])\n",
    "                # Add to the quotes_list for the second CSV writing\n",
    "                quotes_list.append({'Author': author, 'Quote': text, 'Tags': ''})\n",
    "        \n",
    "        # Check for next page\n",
    "        next_button = soup.find('li', class_='next')\n",
    "        if next_button:\n",
    "            next_page = next_button.find('a')['href']\n",
    "            current_url = base_url + next_page\n",
    "            time.sleep(1)  # Polite delay between requests\n",
    "        else:\n",
    "            current_url = None  # Exit loop if no more pages\n",
    "\n",
    "print(\"Scraping complete. Data saved to quotes.csv.\")\n"
   ]
  },
  {
   "cell_type": "code",
   "execution_count": 8,
   "id": "81980620-1034-415f-b305-aa0b65f87263",
   "metadata": {},
   "outputs": [
    {
     "name": "stdout",
     "output_type": "stream",
     "text": [
      "Quotes have been scraped and saved to quotes.csv\n"
     ]
    }
   ],
   "source": [
    "csv_filename = \"quotes.csv\"\n",
    "with open(csv_filename, \"w\", newline=\"\", encoding=\"utf-8-sig\") as file:\n",
    "    fieldnames = [\"Author\", \"Quote\", \"Tags\"]\n",
    "    writer = csv.DictWriter(file, fieldnames=fieldnames)\n",
    "    writer.writeheader()\n",
    "    writer.writerows(quotes_list)\n",
    "\n",
    "print(f\"Quotes have been scraped and saved to {csv_filename}\")"
   ]
  },
  {
   "cell_type": "code",
   "execution_count": null,
   "id": "a3fe7415-deff-4d70-94d8-8bd5c9e19772",
   "metadata": {},
   "outputs": [],
   "source": []
  }
 ],
 "metadata": {
  "kernelspec": {
   "display_name": "Python 3 (ipykernel)",
   "language": "python",
   "name": "python3"
  },
  "language_info": {
   "codemirror_mode": {
    "name": "ipython",
    "version": 3
   },
   "file_extension": ".py",
   "mimetype": "text/x-python",
   "name": "python",
   "nbconvert_exporter": "python",
   "pygments_lexer": "ipython3",
   "version": "3.12.7"
  }
 },
 "nbformat": 4,
 "nbformat_minor": 5
}
